{
  "nbformat": 4,
  "nbformat_minor": 0,
  "metadata": {
    "colab": {
      "name": "Väderdata A.ipynb",
      "provenance": [],
      "collapsed_sections": [],
      "toc_visible": true
    },
    "kernelspec": {
      "name": "python3",
      "display_name": "Python 3"
    }
  },
  "cells": [
    {
      "cell_type": "markdown",
      "metadata": {
        "id": "Kyt3_h2yHOu1",
        "colab_type": "text"
      },
      "source": [
        "# Väderdata från SMHI. Del A.\n",
        "SMHI har temperaturer och annan data från olika mätstationer i Sverige.\n",
        "\n",
        "I detta uppdrag ska vi lära oss om listor, plottning och filer i Python och använda detta för att undersöka temperaturdata från SMHI.\n",
        "\n",
        "För att kunna köra koden, klicka först på \"Open in playground\" uppe till vänster i fönstret. Klicka sedan på \"Copy to Drive\". Du får då en egen kopia av övningen så att dina resultat sparas.\n"
      ]
    },
    {
      "cell_type": "markdown",
      "metadata": {
        "id": "R9GYcUaMOGLO",
        "colab_type": "text"
      },
      "source": [
        "## 1 Listor\n",
        "Vi börjar med några uppdrag för att se hur listor fungerar i Python."
      ]
    },
    {
      "cell_type": "markdown",
      "metadata": {
        "id": "ljzcw4hrPHZI",
        "colab_type": "text"
      },
      "source": [
        "### 1.1 Skapa en lista och skriv ut den\n",
        "En lista är en sekvens av värden. I koden nedan skapas en lista som sedan skrivs ut.\n",
        "\n",
        "**Uppdrag:** Provkör koden genom att klicka på \"run\"-pilen till vänster om koden. (Klicka på koden först om du inte ser run-pilen.)"
      ]
    },
    {
      "cell_type": "code",
      "metadata": {
        "id": "6PUS8uJRHFvl",
        "colab_type": "code",
        "cellView": "both",
        "colab": {}
      },
      "source": [
        "# Provkör denna kod:\n",
        "\n",
        "ts = [14.1, 13.5, 17.5, 16.2, 18.9, 11.3]\n",
        "print(\"Temperaturerna är:\")\n",
        "print(ts)"
      ],
      "execution_count": 0,
      "outputs": []
    },
    {
      "cell_type": "markdown",
      "metadata": {
        "id": "5xJ6DXRIRIiG",
        "colab_type": "text"
      },
      "source": [
        "Några saker att observera:\n",
        "*   Man har hakparenteser runt listan\n",
        "*   Decimaltal skrivs med punkt (inte med komma)\n",
        "*   Listan har sparats i variabeln `ts`"
      ]
    },
    {
      "cell_type": "markdown",
      "metadata": {
        "id": "WG8_CTp_Te4E",
        "colab_type": "text"
      },
      "source": [
        "Värdena ovan är temperaturer som mätts upp under ett antal dagar i juni. Tabellen nedan visar temperaturerna, regnmängderna och vilka dagar det gäller.\n",
        "\n",
        "|dag|3|7|10|11|14|21|\n",
        "|:--:|--:|-:|--:|-:|-:|-:|\n",
        "|**temp**|14.1|13.5|17.5|16.2|18.9|11.3|\n",
        "|**regn**|0|0.2|0.1|0.3|0|3.2|\n",
        "\n",
        "\n",
        "**Uppdrag:** Skriv kod som skapar en lista `days` med värdena för dagarna i tabellen (3, 7, 10, ...) och som sedan skriver ut listan, på liknande sätt som i förra exemplet. Skriv koden i rutan nedan och provkör för att se att den fungerar."
      ]
    },
    {
      "cell_type": "code",
      "metadata": {
        "id": "t13k4qx4XYFE",
        "colab_type": "code",
        "colab": {}
      },
      "source": [
        "# Skriv din kod här:\n",
        "\n"
      ],
      "execution_count": 0,
      "outputs": []
    },
    {
      "cell_type": "markdown",
      "metadata": {
        "id": "W5svXQ13XbBo",
        "colab_type": "text"
      },
      "source": [
        "Om du inte vet hur du skall göra så finns lösningen här.\n",
        "<details>\n",
        "<summary markdown=\"span\">\n",
        "Lösning\n",
        "</summary>\n",
        "<p><pre><code>days = [3, 7, 10, 11, 14, 17]\n",
        "print(\"Dagarna är:\")\n",
        "print(days)\n",
        "</code></pre></p>\n",
        "</details>\n"
      ]
    },
    {
      "cell_type": "markdown",
      "metadata": {
        "id": "cZ07-tthNYnt",
        "colab_type": "text"
      },
      "source": [
        "**Uppdrag:** Skriv kod som på liknande sätt skapar en lista `rain` med värdena för regnmängderna i tabellen. Anropa också `print` som tidigare så att du kan se att den nya listan har rätt värden. Skriv koden i rutan nedan och provkör den."
      ]
    },
    {
      "cell_type": "code",
      "metadata": {
        "id": "PtmNJlcWRj8h",
        "colab_type": "code",
        "colab": {}
      },
      "source": [
        "# Skriv din kod här:\n",
        "\n"
      ],
      "execution_count": 0,
      "outputs": []
    },
    {
      "cell_type": "markdown",
      "metadata": {
        "id": "aPEKQOOwR2DO",
        "colab_type": "text"
      },
      "source": [
        "<details>\n",
        "<summary markdown=\"span\">\n",
        "Tips\n",
        "</summary>\n",
        "<p>\n",
        "Försök först lösa uppdraget själv. Titta på förra exemplet för att förstå hur du ska göra. Titta inte på lösningen nedan förrän du verkligen har försökt själv.\n",
        "<details>\n",
        "<summary markdown=\"span\">\n",
        "Lösning\n",
        "</summary>\n",
        "<p>\n",
        "<pre><code>rain = [0, 0.2, 0.1, 0.3, 0, 3.2]\n",
        "print(\"Regnmängderna är:\")\n",
        "print(rain)\n",
        "</code></pre>\n",
        "</p>\n",
        "</details>\n",
        "</p>\n",
        "</details>"
      ]
    },
    {
      "cell_type": "markdown",
      "metadata": {
        "id": "Gh0f2MaYTsbr",
        "colab_type": "text"
      },
      "source": [
        "### 1.2 Beräkna medeltemperatur med `sum` och `len`\n",
        "Det finns en inbyggd funktion `sum(list)` som kan summera elementen i en lista. Det finns också en inbyggd funktion `len(list)` som ger längden på listan.\n",
        "\n",
        "Följande kod skriver ut summan av temperaturerna och längden på listan."
      ]
    },
    {
      "cell_type": "code",
      "metadata": {
        "id": "JjZKvWnDUfQO",
        "colab_type": "code",
        "colab": {}
      },
      "source": [
        "# Provkör dennna kod\n",
        "\n",
        "print(sum(ts))\n",
        "print(len(ts))"
      ],
      "execution_count": 0,
      "outputs": []
    },
    {
      "cell_type": "markdown",
      "metadata": {
        "id": "mcKIkU0RYlon",
        "colab_type": "text"
      },
      "source": [
        "Undrar du varför summan inte blir 91.5, utan visas med många decimaler? Hur kan det vara så?\n",
        "\n",
        "<details>\n",
        "<summary markdown=\"span\">\n",
        "Svar\n",
        "</summary>\n",
        "<p>Det beror på att tal representeras binärt i datorn, dvs med nollor och ettor. Många decimaltal kan inte representeras exakt med binära tal, så omvandlingen ger avrundningsfel.\n",
        "  </p>\n",
        "  </details>\n",
        "<details>\n",
        "<summary markdown=\"span\">\n",
        "Tips om att skriva ut med färre decimaler:\n",
        "</summary>\n",
        "<p> Om man vill skriva ut ett decimaltal avrundat till färre decimaler kan man göra det genom att sätta det i en formatsträng på följande sätt:\n",
        "<pre><code>print(f\"{sum(temperatures):.3f}\")</code>\n",
        "</pre>\n",
        "Det första f:et står för formatsträng. Det andra f:et står för float (decimaltal heter så med datorterminologi). 3:an står för att vi vill se 3 decimaler. Prova gärna att lägga till en sådan printsats i kodrutan ovan. Kan du få ut värdet med 4 decimaler i stället?\n",
        "</details>\n"
      ]
    },
    {
      "cell_type": "markdown",
      "metadata": {
        "id": "-EJEGSEqUvXV",
        "colab_type": "text"
      },
      "source": [
        "**Uppdrag:** Skriv kod som räknar ut medeltemperaturen och skriver ut den.\n",
        "\n",
        "<details>\n",
        "<summary markdown=\"span\">\n",
        "Tips\n",
        "</summary>\n",
        "<p>\n",
        " För att få medeltemperaturen dividerar du summan med antalet temperaturer (alltså längden på listan).\n",
        "</p>\n",
        "</details>"
      ]
    },
    {
      "cell_type": "code",
      "metadata": {
        "id": "zTBg7ImTUuoQ",
        "colab_type": "code",
        "colab": {}
      },
      "source": [
        "# Skriv din kod här\n",
        "\n"
      ],
      "execution_count": 0,
      "outputs": []
    },
    {
      "cell_type": "markdown",
      "metadata": {
        "id": "zlcIjqX2WLoQ",
        "colab_type": "text"
      },
      "source": [
        "<details>\n",
        "<summary markdown=\"span\">\n",
        "Lösning\n",
        "</summary>\n",
        "<p><pre><code>s = sum(ts)\n",
        "n = len(ts)\n",
        "avg = s/n\n",
        "print(\"medeltemperaturen är:\")\n",
        "print(avg)\n",
        "# Eller för att skriva ut med bara en decimal:\n",
        "print(\"medeltemperaturen med en decimal:\")\n",
        "print(f\"{avg:.1f}\")\n",
        "</code></pre></p>\n",
        "</details>\n"
      ]
    },
    {
      "cell_type": "markdown",
      "metadata": {
        "id": "NJFTooudkCHZ",
        "colab_type": "text"
      },
      "source": [
        "### 1.3 Accessa list-element\n",
        "\n",
        "Du kan accessa (komma åt) enskilda element i en lista `lst` med notationen `lst[i]` där `i`  är positionen för elementet i listan. Första elementet har position 0, nästa position 1, osv.\n",
        "\n",
        "Här är ett exempel på en lista med strängar där elementen är strängar."
      ]
    },
    {
      "cell_type": "code",
      "metadata": {
        "id": "Uxh-_SqomPRo",
        "colab_type": "code",
        "colab": {}
      },
      "source": [
        "# Provkör denna kod\n",
        "\n",
        "song = [\"glad\", \"såsom\", \"fågeln\", \"i\", \"morgonstunden\"]\n",
        "print(song[0])\n",
        "print(song[1])\n",
        "print(song[2])\n",
        "print(song[3])\n",
        "print(song[4])"
      ],
      "execution_count": 0,
      "outputs": []
    },
    {
      "cell_type": "markdown",
      "metadata": {
        "id": "0hze4DyIrfVM",
        "colab_type": "text"
      },
      "source": [
        "**Uppdrag:** Skriv kod som skriver ut första och sista elementet i listan `rain`."
      ]
    },
    {
      "cell_type": "code",
      "metadata": {
        "id": "P9XpYVFErpf6",
        "colab_type": "code",
        "colab": {}
      },
      "source": [
        "# Skriv din kod här\n",
        "\n"
      ],
      "execution_count": 0,
      "outputs": []
    },
    {
      "cell_type": "markdown",
      "metadata": {
        "id": "L2T06-IkiW5V",
        "colab_type": "text"
      },
      "source": [
        "<details>\n",
        "<summary markdown=\"span\">\n",
        "Lösning\n",
        "</summary>\n",
        "<p><pre><code>print(rain[0])\n",
        "print(rain[5])\n",
        "</code></pre></p>\n",
        "</details>\n"
      ]
    },
    {
      "cell_type": "markdown",
      "metadata": {
        "id": "PSF2hnS0kQsM",
        "colab_type": "text"
      },
      "source": [
        "### 1.4 Loopa över listor\n",
        "\n",
        "En `for` sats kan loopa över elementen i en lista. Till exempel kan vi skriva ut alla orden i listan `song` med följande kod:"
      ]
    },
    {
      "cell_type": "code",
      "metadata": {
        "id": "9s8k7c6dsFsS",
        "colab_type": "code",
        "colab": {}
      },
      "source": [
        "# Provkör denna kod\n",
        "for word in song:\n",
        "  print(word)"
      ],
      "execution_count": 0,
      "outputs": []
    },
    {
      "cell_type": "markdown",
      "metadata": {
        "id": "LC2EkB-KSxiz",
        "colab_type": "text"
      },
      "source": [
        "For-loopen körs lika många varv som det finns element i listan. För varje varv får loopvariabeln <code>word</code> nästa värde i listan. Satsen <code>print(word)</code> skriver ut värdet.\n",
        "\n",
        "**Uppdrag:** Skriv kod som skriver ut alla regnmängderna i listan `rain`."
      ]
    },
    {
      "cell_type": "code",
      "metadata": {
        "id": "Apss_XTdMwg8",
        "colab_type": "code",
        "colab": {}
      },
      "source": [
        "# Skriv kod här\n",
        "\n"
      ],
      "execution_count": 0,
      "outputs": []
    },
    {
      "cell_type": "markdown",
      "metadata": {
        "id": "JtXRMEQUNFqU",
        "colab_type": "text"
      },
      "source": [
        "<details>\n",
        "<summary markdown=\"span\">\n",
        "Lösning\n",
        "</summary>\n",
        "<p><pre><code>for v in rain:\n",
        "  print(v)\n",
        "</code></pre></p>\n",
        "<p>Kommentar: Här har vi döpt loopvariabeln till <code>v</code>. Loopvariabeln kan ha vilket namn som helst, men man bör välja ett namn som passar för elementen i listan. Prova att ändra din loopvariabel till exempel till <code>r</code>.</p>\n",
        "</details>"
      ]
    },
    {
      "cell_type": "markdown",
      "metadata": {
        "id": "C_bhMLJqPbKh",
        "colab_type": "text"
      },
      "source": [
        "För att loopa ett visst antal gånger används ofta  en `for` loop med en `range`, som i följande exempel:"
      ]
    },
    {
      "cell_type": "code",
      "metadata": {
        "id": "3sEq8uEvRNP4",
        "colab_type": "code",
        "colab": {}
      },
      "source": [
        "# Provkör denna kod\n",
        "for i in range(4):\n",
        "  print(\"värdet är\", i)"
      ],
      "execution_count": 0,
      "outputs": []
    },
    {
      "cell_type": "markdown",
      "metadata": {
        "id": "_uOkhNtCnYjr",
        "colab_type": "text"
      },
      "source": [
        "Loopen gör 4 varv där loopvariabeln `i` får värdena 0, 1, 2, 3 i tur och ordning.\n",
        "\n",
        "Observera också att vi kan skriva ut flera saker på en rad genom att ha flera argument till `print`.\n",
        "\n",
        "**Uppdrag** Skriv en liknande loop (med en loopvariabel och range), och som gör lika många varv som det finns element i listan `days`."
      ]
    },
    {
      "cell_type": "code",
      "metadata": {
        "id": "0Eg_6EjEoBZo",
        "colab_type": "code",
        "colab": {}
      },
      "source": [
        "# Skriv din kod här\n",
        "\n"
      ],
      "execution_count": 0,
      "outputs": []
    },
    {
      "cell_type": "markdown",
      "metadata": {
        "id": "cIruTk7Dq_NW",
        "colab_type": "text"
      },
      "source": [
        "<details>\n",
        "<summary markdown=\"span\">\n",
        "Lösning\n",
        "</summary>\n",
        "<p><pre><code>for i in range(len(days)):\n",
        "  print(\"värdet är\", i)\n",
        "</code></pre></p>\n",
        "</details>"
      ]
    },
    {
      "cell_type": "markdown",
      "metadata": {
        "id": "saPANUOrRUgp",
        "colab_type": "text"
      },
      "source": [
        "**Uppdrag:** Skriv en loop som skriver ut en rad för varje dag, temperatur och regnmängd. Till exempel skall de tre första raderna vara:\n",
        "\n",
        "    1 14.1 0\n",
        "    2 13.5 0.2\n",
        "    4 17.5 0.1\n",
        "\n",
        "Tips:\n",
        "* Använd loopvariabeln för att accessa värden i listorna\n",
        "\n"
      ]
    },
    {
      "cell_type": "code",
      "metadata": {
        "id": "JrCxdPATPgiv",
        "colab_type": "code",
        "colab": {}
      },
      "source": [
        "# Skriv din kod här\n"
      ],
      "execution_count": 0,
      "outputs": []
    },
    {
      "cell_type": "markdown",
      "metadata": {
        "id": "GD0D8RAiPj0E",
        "colab_type": "text"
      },
      "source": [
        "<details>\n",
        "<summary markdown=\"span\">\n",
        "Lösning\n",
        "</summary>\n",
        "<p><pre><code>for i in range(len(days)):\n",
        "  print(days[i], ts[i], rain[i])\n",
        "</code></pre></p>\n",
        "</details>"
      ]
    },
    {
      "cell_type": "markdown",
      "metadata": {
        "id": "cPmld9AVYRRK",
        "colab_type": "text"
      },
      "source": [
        "## 2 Plottning\n",
        "Nu skall vi titta på hur plottning fungerar i Python."
      ]
    },
    {
      "cell_type": "markdown",
      "metadata": {
        "id": "BhwoBAy5wgbA",
        "colab_type": "text"
      },
      "source": [
        "### 2.1 Plotta en kurva\n",
        "\n",
        "Vi börjar med att plotta en temperaturkurva med dagar på x-axeln och temperaturer på y-axeln.\n",
        "\n",
        "Vi använder biblioteket `matplotlib` för detta."
      ]
    },
    {
      "cell_type": "code",
      "metadata": {
        "id": "Yi1Wbk6sZwQ7",
        "colab_type": "code",
        "colab": {}
      },
      "source": [
        "# Provkör denna kod:\n",
        "\n",
        "import matplotlib.pyplot as plt\n",
        "\n",
        "plt.plot(days, ts)\n"
      ],
      "execution_count": 0,
      "outputs": []
    },
    {
      "cell_type": "markdown",
      "metadata": {
        "id": "7vK4mUUZboIa",
        "colab_type": "text"
      },
      "source": [
        "Några saker att observera:\n",
        "*   `import`-satsen ger oss access till biblioteket `matplotlib.pyplot` och låter oss använda det lite kortare namnet `plt` för det.\n",
        "*   anropet till `plot`-funktionen anger att vi vill ha  `days` på x-axeln och `ts` på y-axeln.\n",
        "\n",
        "<details>\n",
        "<summary markdown=\"span\">\n",
        "Fler detaljer\n",
        "</summary>\n",
        "<p>\n",
        "<ul>\n",
        "   <li> Colab ritar automatiskt ut resultatet av plot-funktionen. Kör vi i andra Python-miljöer kan vi behöva anropa plt.show() eller plt.savefig() på slutet av koden.\n",
        "  <li> Du undrar kanske vad texten \"<code>matplotlib.lines.Line2D at ...</code>\" betyder och varför den skrivs ut. Den beror på att Colab automatiskt gör print på resultatet av sista kodraden. Vill du slippa se denna text kan du t.ex. lägga till kommandot <code>pass</code> som sista sats i koden.  Det är en tom sats som inte har något resultat, så då skrivs ingen text ut.\n",
        "</ul>\n",
        "</p>\n",
        "</details>"
      ]
    },
    {
      "cell_type": "markdown",
      "metadata": {
        "id": "vF-EYup8codA",
        "colab_type": "text"
      },
      "source": [
        "### 2.2 Experimentera med fel vid plottning\n",
        "En viktig sak när man plottar är att listorna för x och y-värdena måste vara lika långa. Annars får man ett felmeddelande.\n",
        "\n",
        "Till exempel är följande anrop felaktigt\n",
        "\n",
        "    plt.plot([3, 7, 10], ts)\n",
        "\n",
        "eftersom listan av x-värden är kortare än temperaturlistan `ts`.\n",
        "\n",
        "**Uppdrag:** \n",
        "*  Provkör det felaktiga anropet nedan för att se att du får ett felmeddelande.\n",
        "*  Felmeddelandet innehåller mycket information, men längst ner hittar du en förklaring av felet (`ValueError: ...`). Kan du förstå förklaringen?\n",
        "*  Kan du ändra koden så att du blir av med felmeddelandet?"
      ]
    },
    {
      "cell_type": "code",
      "metadata": {
        "id": "1qmyw7rLe0uq",
        "colab_type": "code",
        "colab": {}
      },
      "source": [
        "# Experimentera med felaktiga anrop här:\n",
        "\n",
        "plt.plot([3, 7, 10], ts)"
      ],
      "execution_count": 0,
      "outputs": []
    },
    {
      "cell_type": "markdown",
      "metadata": {
        "id": "eL44tm3lgeax",
        "colab_type": "text"
      },
      "source": [
        "<details>\n",
        "<summary markdown=\"span\">\n",
        "Lösning\n",
        "</summary>\n",
        "<p>\n",
        "I felmeddelandet kan man se att första listan har längden 3, medan den andra har längden 6. För att bli av med felmeddelandet kan man ändra första listan så att den också får 6 element. Till exempel:\n",
        "<pre><code>plt.plot([3, 7, 10, 11, 14, 17], ts)\n",
        "</pre></code></p>\n",
        "</details>"
      ]
    },
    {
      "cell_type": "markdown",
      "metadata": {
        "id": "zYE0u1hM5iIe",
        "colab_type": "text"
      },
      "source": [
        "### 2.3 Gör en mer informativ plott\n",
        "Det finns många olika möjligheter att göra plotten finare och mer informativ. Vi borde till exempel skriva ut\n",
        "*  vad x och y-axlarna visar (dag och grader Celsius)\n",
        "*  en teckenförklaring som säger vad kurvan visar (temperaturer i juni)\n",
        "\n",
        "Det vore också bra att sätta en prick för varje mätvärde, eftersom många dagar saknar mätvärde. (T.ex. inleds mätvärden med värden från den 3:e och 7:e juni i exemplet.)\n",
        "\n",
        "**Uppdrag:** Provkör koden nedan för att se hur man får med denna information."
      ]
    },
    {
      "cell_type": "code",
      "metadata": {
        "id": "F2sUt-9F6iMN",
        "colab_type": "code",
        "colab": {}
      },
      "source": [
        "# Provkör denna kod\n",
        "\n",
        "plt.plot(days, ts, \"o-\", label=\"temperaturer i juni\")\n",
        "plt.xlabel(\"dag\")\n",
        "plt.ylabel(\"grader Celsius\")\n",
        "plt.legend()"
      ],
      "execution_count": 0,
      "outputs": []
    },
    {
      "cell_type": "markdown",
      "metadata": {
        "id": "0tsCj8ld_mTr",
        "colab_type": "text"
      },
      "source": [
        "Förklaring:\n",
        "* anropet \"xlabel\" skriver ut etikett (label) på x-axeln\n",
        "* anropet \"ylabel\" skriver ut etikett på y-axeln\n",
        "* anropet \"legend\" skriver ut en teckenförklaring (\"legend\" på engelska).\n",
        "*  parametern \"label=...\" i plot-anropet sätter en etikett på kurvan som skrivs ut om man anropar \"legend\"\n",
        "*  parametern \"`o-`\" i plot-anropet ger ett \"format\" för kurvan, och säger att det skall vara en prick för varje mätvärde och linjer emellan. Det finns många andra \"format\" att välja på. T.ex. kommer \"<code>r+--</code>\" att rita en röd kurva med ett plus-tecken för varje mätvärde och streckade linjer emellan.\n",
        "\n",
        "<details>\n",
        "<summary markdown=\"span\">\n",
        "Detaljer om format\n",
        "</summary>\n",
        "<p>\n",
        "Om du är intresserad av fler exempel på vilka format som kan användas i plot-anrop kan du titta i den officiella <a href=\"https://matplotlib.org/tutorials/introductory/pyplot.html\">pyplot handledningen</a>. Om du vill se alla möjligheter för format så hittar du det i <a href=\"https://matplotlib.org/3.1.1/api/_as_gen/matplotlib.pyplot.plot.html\">dokumentationen för plot-funktionen</a>, se sektionen <i>Notes</i>.)</p>\n",
        "</details>\n",
        "\n",
        "<details>\n",
        "<summary markdown=\"span\">\n",
        "Detaljer om valfria och namngivna parametrar\n",
        "</summary>\n",
        "<p>\n",
        "  Format-parametern är ett exempel på en <i>valfri</i> parameter. Den har ett standardvärde som används om man inte anger parametern. Standardvärdet för format-parametern är \"b-\" (blå linje).\n",
        "  \n",
        "  Parametern \"label=...\" är ett exempel på en <i>namngiven</i> parameter. Namngivna parametrar måste komma i slutet på anropet (efter icke-namngivna) och ordningen mellan dem spelar ingen roll. De är praktiska att använda när en funktion har väldigt många valfria parametrar (vilket plot har). \n",
        "</p>\n",
        "</details>"
      ]
    },
    {
      "cell_type": "markdown",
      "metadata": {
        "id": "gIo1O0F2Es7Z",
        "colab_type": "text"
      },
      "source": [
        "**Uppdrag:** Kopiera ner koden för plottningen och experimentera med andra värden för format, label, xlabel och ylabel. Kan du få en grön kurva med streckade linjer?"
      ]
    },
    {
      "cell_type": "code",
      "metadata": {
        "id": "vwMkb9QnEpKZ",
        "colab_type": "code",
        "colab": {}
      },
      "source": [
        "# Experimentera här:\n"
      ],
      "execution_count": 0,
      "outputs": []
    },
    {
      "cell_type": "markdown",
      "metadata": {
        "id": "KzXkeWX0jtes",
        "colab_type": "text"
      },
      "source": [
        "### 2.4 Skapa en egen plott\n",
        "\n",
        "**Uppdrag:** Skriv kod (i rutan nedan) för att plotta regnmängderna (använd listan `rain` som vi skapade tidigare). Kan du göra plotten fin och informativ med etiketter på axlarna och en legend?\n",
        "\n",
        "<details>\n",
        "<summary markdown=\"span\">\n",
        "Tips\n",
        "</summary>\n",
        "<p>\n",
        "Arbeta i små steg: gör en sak i taget och provkör koden efter varje steg så du ser att det blir rätt. \n",
        "  <ul>\n",
        "    <li> Anropa <code>plt.plot(...)</code> så att dagarna hamnar på x-axeln och regnmängderna på y-axeln.\n",
        "    <li> Lägg till \"o-\" som parameter till \"plot\" för att få prickar för värdena.\n",
        "    <li> Anropa <code>plt.xlabel(...)</code> och <code>plt.ylabel(...)</code> för att sätta etiketter på axlarna.\n",
        "    <li> Lägg till parametern \"label=...\" i plot-anropet och anrop till <code>plt.legend()</code> för att få ut \"legenden\" för kurvan.\n",
        "  </ul>\n",
        "</p>\n",
        "</details>"
      ]
    },
    {
      "cell_type": "code",
      "metadata": {
        "id": "pRS1cxta4wuu",
        "colab_type": "code",
        "cellView": "both",
        "colab": {}
      },
      "source": [
        "# Skriv din kod här:\n",
        "\n"
      ],
      "execution_count": 0,
      "outputs": []
    },
    {
      "cell_type": "markdown",
      "metadata": {
        "id": "3n_JTqNANojZ",
        "colab_type": "text"
      },
      "source": [
        "Om du gjort rätt så bör ditt diagram se ut något i följande stil\n",
        "\n",
        "<details>\n",
        "<summary markdown=\"span\">\n",
        "Diagram\n",
        "</summary>\n",
        "<p>\n",
        "<img src=\"https://drive.google.com/uc?id=1rfC3NUK9Sp16J-Pe-PFYL7J9Z_vfMhhr\"\n",
        "height=\"300\">\n",
        "</p>\n",
        "</details>\n",
        "\n",
        "<details>\n",
        "<summary markdown=\"span\">\n",
        "Mer tips\n",
        "</summary>\n",
        "<p>\n",
        "Försök först lösa uppdraget själv. Titta på tidigare exempel för att förstå hur du ska göra. Titta inte på lösningen förrän du verkligen har försökt själv.\n",
        "<details>\n",
        "<summary markdown=\"span\">\n",
        "Lösning\n",
        "</summary>\n",
        "<p>\n",
        "<pre><code>rain = [0, 0.2, 0.1, 0.3, 0, 3.2]\n",
        "plt.plot(days, rain, \"o-\", label=\"regnmängder i juni\")\n",
        "plt.xlabel(\"dag\")\n",
        "plt.ylabel(\"mm\")\n",
        "plt.legend()\n",
        "</code></pre>\n",
        "</p>\n",
        "</details>\n",
        "</p>\n",
        "</details>\n"
      ]
    },
    {
      "cell_type": "markdown",
      "metadata": {
        "id": "wfbgmrUAI9-k",
        "colab_type": "text"
      },
      "source": [
        "### 2.5 Plotta två kurvor\n",
        "\n",
        "Vi kan lägga två kurvor i samma plot.\n",
        "\n",
        "**Uppdrag** Skapa en plot där du visar både regnmängden och temperaturen. (Tips: gör ett plot-anrop för regnmängden och ett för temperaturen.) Kan du göra en fin informativ plot med olika färg på kurvorna? Vad skall du skriva för etikett på y-axeln?"
      ]
    },
    {
      "cell_type": "code",
      "metadata": {
        "id": "z0U2oWpGJHwS",
        "colab_type": "code",
        "colab": {}
      },
      "source": [
        "# Skriv din kod här:\n",
        "\n"
      ],
      "execution_count": 0,
      "outputs": []
    },
    {
      "cell_type": "markdown",
      "metadata": {
        "id": "dp-6lWKLKiLO",
        "colab_type": "text"
      },
      "source": [
        "<details>\n",
        "<summary markdown=\"span\">\n",
        "Lösning\n",
        "</summary>\n",
        "<p>\n",
        "Här är ett exempel på hur vi kan göra:\n",
        "<pre><code>plt.plot(days, rain, \"bo-\", label=\"regnmängder i juni\")\n",
        "plt.plot(days, ts, \"ro-\", label=\"temperaturer i juni\")\n",
        "plt.xlabel(\"dag\")\n",
        "plt.ylabel(\"mm eller grader\")\n",
        "plt.legend()\n",
        "</pre></code></p>\n",
        "</details>"
      ]
    },
    {
      "cell_type": "markdown",
      "metadata": {
        "id": "CWoIxISfsbU4",
        "colab_type": "text"
      },
      "source": [
        "## 3 Filer\n",
        "\n",
        "Nu när vi kan lite om listor och plottning kan vi snart plotta riktig data från SMHI.\n",
        "\n",
        "Vi behöver först lära oss hur man läser in data från filer.\n",
        "\n",
        "Filerna vi ska öva på kan laddas in till Colab genom att köra nedanstående ruta."
      ]
    },
    {
      "cell_type": "code",
      "metadata": {
        "id": "WmYM_TuGm_Dx",
        "colab_type": "code",
        "colab": {}
      },
      "source": [
        "!wget https://github.com/lunduniversity/schoolprog-satellite-data/raw/master/smhi/lund_juli.zip --no-verbose\n",
        "import zipfile\n",
        "zip_ref = zipfile.ZipFile('lund_juli.zip')\n",
        "zip_ref.extractall()\n",
        "zip_ref.close()\n",
        "!ls\n",
        "\n"
      ],
      "execution_count": 0,
      "outputs": []
    },
    {
      "cell_type": "markdown",
      "metadata": {
        "id": "8n1VFrjkDMUh",
        "colab_type": "text"
      },
      "source": [
        "###2.1 Läs in från en fil\n",
        "\n",
        "Vi börjar med att läsa in innehållet från filen \"lund_juli_2016.txt\" till en variabel `data`."
      ]
    },
    {
      "cell_type": "code",
      "metadata": {
        "id": "aZ_wrdkfECns",
        "colab_type": "code",
        "colab": {}
      },
      "source": [
        "with open(\"lund_juli_2016.txt\", \"r\") as f:\n",
        "  data = f.read()\n",
        "print(data)  "
      ],
      "execution_count": 0,
      "outputs": []
    },
    {
      "cell_type": "markdown",
      "metadata": {
        "id": "qGAbVfBvKI0C",
        "colab_type": "text"
      },
      "source": [
        "Programmet läste först in all information från filen för att sedan skriva ut det igen. Man kan säga att vi öppnar vår fil `lund_juli_2016.txt` och kallar filen `f`. Vi öppnar den i <i>read</i>-läge, där av `\"r\"` i koden. Därefter läser vi från filen med metoden `read()` och sparar detta i vår variabel `data`.\n",
        "\n",
        "Kan vi kombinera inläsning från fil med plottning av grafer med hjälp av `matplotlib`? Vi kan inte plotta direkt eftersom formatet på vår data inte matchar det `plt.plot()` vill ha, en lista av tal. Vi måste därför utföra lite typomvandling på vår data först. Funktionen `read()` som vi använder för att läsa in datan från filen sparar allt innehåll som en enda lång sträng. Vi kan dela upp en sträng till flera genom att anropa ```split()```. Vi kan till exempel välja ett dela upp vår sträng vid varje radbrytning med ```data.split(\"\\n\")```. Vår data kommer då vara lagrad som en lista av mindre strängar istället.\n",
        "\n",
        "För att göra det enklare kan ni köra kodstycket nedan."
      ]
    },
    {
      "cell_type": "code",
      "metadata": {
        "id": "hEnhgY3CtPmW",
        "colab_type": "code",
        "outputId": "27469edf-1a57-45e4-b07f-eec97c6c6f4f",
        "colab": {
          "base_uri": "https://localhost:8080/",
          "height": 105
        }
      },
      "source": [
        "data = data.split(\"\\n\")\n",
        "print(\"Lista i form av många strängar:\")\n",
        "print(data)\n",
        "data = [float(i) for i in data]\n",
        "print(\"Lista i form av floats:\")\n",
        "print(data)"
      ],
      "execution_count": 0,
      "outputs": [
        {
          "output_type": "stream",
          "text": [
            "Lista i form av många strängar:\n",
            "['17.5', '16.9', '15.2', '16.2', '15.7', '15.6', '16.1', '17.6', '17.6', '18.3', '19.3', '18.7', '17.4', '16.0', '17.6', '16.9', '15.9', '16.1', '18.3', '20.5', '21.1', '21.6', '21.4', '21.5', '21.4', '20.8', '17.9', '19.3', '17.7', '18.9', '16.6']\n",
            "Lista i form av floats:\n",
            "[17.5, 16.9, 15.2, 16.2, 15.7, 15.6, 16.1, 17.6, 17.6, 18.3, 19.3, 18.7, 17.4, 16.0, 17.6, 16.9, 15.9, 16.1, 18.3, 20.5, 21.1, 21.6, 21.4, 21.5, 21.4, 20.8, 17.9, 19.3, 17.7, 18.9, 16.6]\n"
          ],
          "name": "stdout"
        }
      ]
    },
    {
      "cell_type": "markdown",
      "metadata": {
        "id": "eQHbhZfQLmfD",
        "colab_type": "text"
      },
      "source": [
        "Som du ser i utskriften så får vi en lista av många små strängar efter att vi har gjort `data.split(\"\\n\")`. Därefter omvandlar vi strängarna till tal i form av floats. Om du kollar noggrant så ser du att formatet skiljer sig åt på de två utskrifterna."
      ]
    },
    {
      "cell_type": "markdown",
      "metadata": {
        "id": "QPghJJgYQVNn",
        "colab_type": "text"
      },
      "source": [
        "För att kunna plotta våra värden behöver vi även en lista med datumen för månaden juli. \n",
        "\n",
        "**Uppdrag**:\n",
        "Skapa en lista med hjälp av `range()` som innehåller värdena 1 till 31. "
      ]
    },
    {
      "cell_type": "code",
      "metadata": {
        "id": "QrrJswwrLpoY",
        "colab_type": "code",
        "colab": {}
      },
      "source": [
        "#Skriv din kod här:\n"
      ],
      "execution_count": 0,
      "outputs": []
    },
    {
      "cell_type": "markdown",
      "metadata": {
        "id": "v7-0F-N0R59o",
        "colab_type": "text"
      },
      "source": [
        "<details>\n",
        "<summary markdown=\"span\">\n",
        "Lösning\n",
        "</summary>\n",
        "<p>\n",
        "Här är ett exempel på hur vi kan göra:\n",
        "<pre><code>\n",
        "datum = list(range(1, 32))\n",
        "</pre></code></p>\n",
        "</details>"
      ]
    },
    {
      "cell_type": "markdown",
      "metadata": {
        "id": "9PMfK_bkSflo",
        "colab_type": "text"
      },
      "source": [
        "Nu har vi allt vi behöver för att kunna plotta våra temperaturer. \n",
        "\n",
        "**Uppdrag**: Plotta temperaturerna med tillhörande datum på samma sätt som i tidigare avsnitt."
      ]
    },
    {
      "cell_type": "code",
      "metadata": {
        "id": "hCiAJYhU1VUo",
        "colab_type": "code",
        "colab": {}
      },
      "source": [
        "#Skriv din kod här:\n",
        "\n"
      ],
      "execution_count": 0,
      "outputs": []
    },
    {
      "cell_type": "markdown",
      "metadata": {
        "id": "IQhDz8B5T8J5",
        "colab_type": "text"
      },
      "source": [
        "<details>\n",
        "<summary markdown=\"span\">\n",
        "Lösning\n",
        "</summary>\n",
        "<p>\n",
        "Här är ett exempel på hur vi kan göra:\n",
        "<pre><code>plt.plot(datum,data)\n",
        "plt.xlabel(\"datum\")\n",
        "plt.ylabel(\"medeltemperatur\")\n",
        "</pre></code></p>\n",
        "</details>"
      ]
    },
    {
      "cell_type": "markdown",
      "metadata": {
        "id": "x6q33cI3UexJ",
        "colab_type": "text"
      },
      "source": [
        "På samma sätt skulle vi nu kunna ta fram motsvarande värde för 2017 och 2018 och jämföra alla 3. \n",
        "\n",
        "**Uppdrag**: Testa kopiera koden från tidigare uppgifter för att på samma sätt skapa `data2017` och `data2018`."
      ]
    },
    {
      "cell_type": "code",
      "metadata": {
        "id": "_p4z_cAwYKzj",
        "colab_type": "code",
        "colab": {}
      },
      "source": [
        "#Skriv din kod här:\n"
      ],
      "execution_count": 0,
      "outputs": []
    },
    {
      "cell_type": "markdown",
      "metadata": {
        "id": "KICjhp9QYC5D",
        "colab_type": "text"
      },
      "source": [
        "<details>\n",
        "<summary markdown=\"span\">\n",
        "Lösning\n",
        "</summary>\n",
        "<p>\n",
        "Här är ett exempel på hur vi kan göra:\n",
        "<pre><code>with open(\"lund_juli_2017.txt\", \"r\") as f:\n",
        "  data2017 = f.read()\n",
        "data2017 = data2017.split(\"\\n\")\n",
        "data2017 = [float(i) for i in data2017]\n",
        "with open(\"lund_juli_2018.txt\", \"r\") as f:\n",
        "  data2018 = f.read()\n",
        "data2018 = data2018.split(\"\\n\")\n",
        "data2018 = [float(i) for i in data2018]\n",
        "</pre></code></p>\n",
        "</details>"
      ]
    },
    {
      "cell_type": "markdown",
      "metadata": {
        "id": "s6BWQ5IDY-2i",
        "colab_type": "text"
      },
      "source": [
        "**Uppdrag**: \n",
        "Plotta nu grafer i samma fönster. Du kan använda parametern label för att göra det tydiligare vilken linje som tillhör vilket år. Exempel: `plt.plot(datum,data,label=\"2016\")`."
      ]
    },
    {
      "cell_type": "code",
      "metadata": {
        "id": "0LPWF9Zeymn7",
        "colab_type": "code",
        "colab": {}
      },
      "source": [
        "#Skriv din kod här:\n"
      ],
      "execution_count": 0,
      "outputs": []
    },
    {
      "cell_type": "markdown",
      "metadata": {
        "id": "TMcm825RaNft",
        "colab_type": "text"
      },
      "source": [
        "<details>\n",
        "<summary markdown=\"span\">\n",
        "Lösning\n",
        "</summary>\n",
        "<p>\n",
        "Här är ett exempel på hur vi kan göra:\n",
        "<pre><code>plt.plot(datum,data, label=\"2016\")\n",
        "plt.plot(datum,data2017, label=\"2017\")\n",
        "plt.plot(datum,data2018, label=\"2018\")\n",
        "plt.legend()\n",
        "</pre></code></p>\n",
        "</details>"
      ]
    },
    {
      "cell_type": "markdown",
      "metadata": {
        "id": "n5vXoGHfcQAN",
        "colab_type": "text"
      },
      "source": [
        "Vilket år hade den högsta uppmätta medeltemperaturen för en dag? Skulle man kunna ta reda på de högsta repspektive minsta värden för varje år med hjälp av programmering? \n",
        "\n",
        "***Extra Uppdrag:*** Använd funktionerna `max()` och `min()` för att bestämma störtsa respektive minsta värde för samtliga år."
      ]
    },
    {
      "cell_type": "code",
      "metadata": {
        "id": "pzY6CtZ6banZ",
        "colab_type": "code",
        "colab": {}
      },
      "source": [
        "#Skriv din kod här:"
      ],
      "execution_count": 0,
      "outputs": []
    },
    {
      "cell_type": "markdown",
      "metadata": {
        "id": "JD5M_Tg5cDoj",
        "colab_type": "text"
      },
      "source": [
        "## 4 Quiz\n",
        "\n",
        "### Fråga 1\n",
        "Vilka av dessa är en lista i python? \n",
        "*   `[0, 1, 7]`\n",
        "*   `(0, 1, 7)`\n",
        "*   `{0, 1, 7}`\n",
        "\n",
        "<details>\n",
        "<summary markdown=\"span\">\n",
        "Svar\n",
        "</summary>\n",
        "<p>\n",
        "<code>[0, 1, 7]</code>\n",
        "</p>\n",
        "</details>\n",
        "\n",
        "### Fråga 2\n",
        "Vad skriver man för att få längden på en lista som kallas `data`?\n",
        "* `len(data)`\n",
        "* `size(data)`\n",
        "* `range(data)`\n",
        "\n",
        "<details>\n",
        "<summary markdown=\"span\">\n",
        "Svar\n",
        "</summary>\n",
        "<p>\n",
        "<code>len(data)</code>\n",
        "</p>\n",
        "</details>\n",
        "\n",
        "### Fråga 3\n",
        "\n",
        "Vad skriver följande kodstycke ut?\n",
        "\n",
        "```python\n",
        "list = [\"hej\", \"på\", \"dig\"]\n",
        "print(list[1])\n",
        "```\n",
        "\n",
        "<details>\n",
        "<summary markdown=\"span\">\n",
        "Svar\n",
        "</summary>\n",
        "<p>\n",
        "<code>på</code>\n",
        "</p>\n",
        "</details>\n",
        "\n",
        "### Fråga 4\n",
        "\n",
        "Vad skriver följande kodstycke ut?\n",
        "\n",
        "```python\n",
        "list = [\"hej\", \"på\", \"dig\"]\n",
        "for word in list:\n",
        "    print(word)\n",
        "```\n",
        "\n",
        "<details>\n",
        "<summary markdown=\"span\">\n",
        "Svar\n",
        "</summary>\n",
        "<p>\n",
        "<pre><code>hej\n",
        "på\n",
        "dig</code>\n",
        "</pre>\n",
        "</p>\n",
        "</details>\n",
        "\n",
        "### Fråga 5\n",
        "\n",
        "Vad skriver följande kodstycke ut?\n",
        "\n",
        "```python\n",
        "list = [\"hej\", \"på\", \"dig\"]\n",
        "for i in range(2):\n",
        "    print(list[i])\n",
        "```\n",
        "\n",
        "<details>\n",
        "<summary markdown=\"span\">\n",
        "Svar\n",
        "</summary>\n",
        "<p>\n",
        "<pre><code>hej\n",
        "på</code>\n",
        "</pre>\n",
        "</p>\n",
        "</details>\n",
        "\n",
        "### Fråga 6\n",
        "\n",
        "Vad kommer stå på x-axeln i plotten som genereras av följande kod?\n",
        "\n",
        "```python\n",
        "x = [1, 2 3]\n",
        "y = [1, 4, 9]\n",
        "plt.plot(x, y)\n",
        "plt.xlabel(\"mina fina x-värden\")\n",
        "plt.ylabel(\"mina vackra y-värden\")\n",
        "```\n",
        "\n",
        "<details>\n",
        "<summary markdown=\"span\">\n",
        "Svar\n",
        "</summary>\n",
        "<p>\n",
        "<code>mina fina x-värden</code>\n",
        "</p>\n",
        "</details>\n",
        "\n",
        "### Fråga 7\n",
        "\n",
        "Vilken rad kod öppnar filen `text.txt` i läsläge?\n",
        "\n",
        "* `with open(\"text.txt\", \"r\") as f:`\n",
        "* `with open(\"text.txt\", \"w\") as f:`\n",
        "* `read(\"text.txt\") as f:`\n",
        "\n",
        "<details>\n",
        "<summary markdown=\"span\">\n",
        "Svar\n",
        "</summary>\n",
        "<p>\n",
        "<code>with open(\"text.txt\", \"r\") as f:</code>\n",
        "</p>\n",
        "</details>\n",
        "\n",
        "### Fråga 8\n",
        "Följande kod:\n",
        "```python\n",
        "with open(\"text.txt\", \"r\") as f:\n",
        "    data = f.read()\n",
        "print(data)\n",
        "```\n",
        "\n",
        "skriver ut:\n",
        "```python\n",
        "hej\n",
        "på\n",
        "dig\n",
        "```\n",
        "Vad skrivs nu ut av följande stycke?\n",
        "```python\n",
        "print(data.split(\"\\n\"))\n",
        "```\n",
        "\n",
        "<details>\n",
        "<summary markdown=\"span\">\n",
        "Svar\n",
        "</summary>\n",
        "<p>\n",
        "<code>[\"hej\", \"på\", \"dig\"]</code>\n",
        "</p>\n",
        "</details>\n",
        "\n"
      ]
    }
  ]
}